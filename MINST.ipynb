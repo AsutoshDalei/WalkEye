{
  "nbformat": 4,
  "nbformat_minor": 0,
  "metadata": {
    "colab": {
      "name": "Untitled0.ipynb",
      "provenance": [],
      "collapsed_sections": [],
      "authorship_tag": "ABX9TyOMvkB6fCmfbi6Ng75kxOzc",
      "include_colab_link": true
    },
    "kernelspec": {
      "name": "python3",
      "display_name": "Python 3"
    }
  },
  "cells": [
    {
      "cell_type": "markdown",
      "metadata": {
        "id": "view-in-github",
        "colab_type": "text"
      },
      "source": [
        "<a href=\"https://colab.research.google.com/github/AsutoshDalei/WalkEye/blob/master/MINST.ipynb\" target=\"_parent\"><img src=\"https://colab.research.google.com/assets/colab-badge.svg\" alt=\"Open In Colab\"/></a>"
      ]
    },
    {
      "cell_type": "markdown",
      "metadata": {
        "id": "nVuXLvafaCb1",
        "colab_type": "text"
      },
      "source": [
        "\n",
        "Importing all necessary packages"
      ]
    },
    {
      "cell_type": "code",
      "metadata": {
        "id": "FJcaS2_FBsK1",
        "colab_type": "code",
        "colab": {}
      },
      "source": [
        "import numpy as np\n",
        "import tensorflow as tf \n",
        "import tensorflow_datasets as tfds "
      ],
      "execution_count": 0,
      "outputs": []
    },
    {
      "cell_type": "markdown",
      "metadata": {
        "id": "gxSFpoO7bIKK",
        "colab_type": "text"
      },
      "source": [
        "Importing our dataset"
      ]
    },
    {
      "cell_type": "code",
      "metadata": {
        "id": "L1JlHjq4Bs9c",
        "colab_type": "code",
        "colab": {}
      },
      "source": [
        "mdata,minfo=tfds.load(name='mnist',as_supervised=True,with_info=True) #minfo contains information about the dataset\n",
        "mtrain,mtest=mdata['train'],mdata['test'] #Defining test and train data"
      ],
      "execution_count": 0,
      "outputs": []
    },
    {
      "cell_type": "markdown",
      "metadata": {
        "id": "tgkyZ7HscI-W",
        "colab_type": "text"
      },
      "source": [
        "We here define the number of validation, train and test samples and convert them into int64 type."
      ]
    },
    {
      "cell_type": "code",
      "metadata": {
        "id": "mRiELf7uBtAb",
        "colab_type": "code",
        "colab": {}
      },
      "source": [
        "noval=0.2*minfo.splits['train'].num_examples #Number of validation samples\n",
        "noval=tf.cast(noval,tf.int64)\n",
        "notrain=minfo.splits['train'].num_examples #Number of train samples\n",
        "notrain=tf.cast(notrain,tf.int64)\n",
        "notest=minfo.splits['test'].num_examples #Number of test samples\n",
        "notest=tf.cast(notest,tf.int64)"
      ],
      "execution_count": 0,
      "outputs": []
    },
    {
      "cell_type": "markdown",
      "metadata": {
        "id": "J66NIY-JcaG5",
        "colab_type": "text"
      },
      "source": [
        "Scaling is a important preprocssing procedure. Here we define a function to scale the images from 0-255 to 0-1. We then scale all the images using python's map function"
      ]
    },
    {
      "cell_type": "code",
      "metadata": {
        "id": "iyDodggIG_rD",
        "colab_type": "code",
        "colab": {}
      },
      "source": [
        "def scale(image,label):\n",
        "  image=tf.cast(image,tf.float32)\n",
        "  image/=255.\n",
        "  return (image,label)\n",
        "  \n",
        "scaledtrainval=mtrain.map(scale)\n",
        "scaledtest=mtest.map(scale)"
      ],
      "execution_count": 0,
      "outputs": []
    },
    {
      "cell_type": "markdown",
      "metadata": {
        "id": "EjwWoxjMc0yB",
        "colab_type": "text"
      },
      "source": [
        "We shuffle the dataset to have a random variation of data in out dataset. Significance of *buffer_size* is to shuffle data in batches instead of as a whole, to be computationally efficient."
      ]
    },
    {
      "cell_type": "code",
      "metadata": {
        "id": "A2PNo_w4BtFs",
        "colab_type": "code",
        "colab": {}
      },
      "source": [
        "shuffletrainval=scaledtrainval.shuffle(buffer_size=100)\n",
        "shuffletest=scaledtest.shuffle(buffer_size=100)"
      ],
      "execution_count": 0,
      "outputs": []
    },
    {
      "cell_type": "markdown",
      "metadata": {
        "id": "XrWF4A5Udqj7",
        "colab_type": "text"
      },
      "source": [
        "Here, we divide the data into valdata for validation and traindata for training. This is done by python functions *take(x)* and *skip(x)*, which take and skip *x* number of samples respectively."
      ]
    },
    {
      "cell_type": "code",
      "metadata": {
        "id": "2F8opYTQBtId",
        "colab_type": "code",
        "colab": {}
      },
      "source": [
        "valdata=shuffletrainval.take(noval)\n",
        "traindata=shuffletrainval.skip(noval)"
      ],
      "execution_count": 0,
      "outputs": []
    },
    {
      "cell_type": "markdown",
      "metadata": {
        "id": "adpGCWnjeIJ0",
        "colab_type": "text"
      },
      "source": [
        "Here, we divide the data into batches. Train data is divided into batches based on *batchsize*. Since test and validation data need not be batched, they are batched into one single batch of their own size."
      ]
    },
    {
      "cell_type": "code",
      "metadata": {
        "id": "vqfm3IZkeHL3",
        "colab_type": "code",
        "colab": {}
      },
      "source": [
        "batchsize=1000\n",
        "traindata=traindata.batch(batchsize)\n",
        "valdata=valdata.batch(noval)\n",
        "testdata=shuffletest.batch(notest)"
      ],
      "execution_count": 0,
      "outputs": []
    },
    {
      "cell_type": "code",
      "metadata": {
        "id": "VGZhytoLz5Yn",
        "colab_type": "code",
        "colab": {}
      },
      "source": [
        "valip,valtar=next(iter(valdata)) #Dividing valdation data into sample and target"
      ],
      "execution_count": 0,
      "outputs": []
    },
    {
      "cell_type": "markdown",
      "metadata": {
        "id": "7HvPSo87e9-n",
        "colab_type": "text"
      },
      "source": [
        "**Defining a model here**. We first flatten our input images into a one dimensional vector which is then fed into a deep neural network. The activation of last layer should we softmax as we are expecting an output based on probabilities."
      ]
    },
    {
      "cell_type": "code",
      "metadata": {
        "id": "zkYw0brYixzj",
        "colab_type": "code",
        "colab": {}
      },
      "source": [
        "ipsize=784\n",
        "opsize=10\n",
        "hiddensize=100\n",
        "model=tf.keras.Sequential([\n",
        "                           tf.keras.layers.Flatten(input_shape=(28,28,1)),\n",
        "                           tf.keras.layers.Dense(100,activation='tanh'),\n",
        "                           tf.keras.layers.Dense(100,activation='sigmoid'),\n",
        "                           tf.keras.layers.Dense(100,activation='relu'),\n",
        "                           tf.keras.layers.Dense(opsize,activation='softmax'),\n",
        "                        ])"
      ],
      "execution_count": 0,
      "outputs": []
    },
    {
      "cell_type": "markdown",
      "metadata": {
        "id": "bFl2phVCfXP1",
        "colab_type": "text"
      },
      "source": [
        "**Compiling our model**. We add a custom optimizer so that we can adjust the learning rate. Since we are dealing with a classification problem and have not applied one hot encoding, we shall use sparce categorical crossentropy as our loss function."
      ]
    },
    {
      "cell_type": "code",
      "metadata": {
        "id": "_lzThEcvxn1U",
        "colab_type": "code",
        "colab": {}
      },
      "source": [
        "custopt=tf.keras.optimizers.Adam(learning_rate=0.001)\n",
        "model.compile(optimizer=custopt,loss='sparse_categorical_crossentropy',metrics=['accuracy'])"
      ],
      "execution_count": 0,
      "outputs": []
    },
    {
      "cell_type": "markdown",
      "metadata": {
        "id": "yVI0E7kRgMXT",
        "colab_type": "text"
      },
      "source": [
        "**Train(fitting) the model to look at the progress.**"
      ]
    },
    {
      "cell_type": "code",
      "metadata": {
        "id": "TQWXpgdoyhhN",
        "colab_type": "code",
        "outputId": "4b69fb5a-fd60-458a-8942-aebc8edb7c99",
        "colab": {
          "base_uri": "https://localhost:8080/",
          "height": 381
        }
      },
      "source": [
        "model.fit(traindata,validation_data=(valip,valtar),epochs=10,verbose=1)"
      ],
      "execution_count": 64,
      "outputs": [
        {
          "output_type": "stream",
          "text": [
            "Epoch 1/10\n",
            "48/48 [==============================] - 11s 235ms/step - loss: 0.8393 - accuracy: 0.7815 - val_loss: 0.3445 - val_accuracy: 0.8995\n",
            "Epoch 2/10\n",
            "48/48 [==============================] - 11s 232ms/step - loss: 0.2845 - accuracy: 0.9156 - val_loss: 0.2393 - val_accuracy: 0.9306\n",
            "Epoch 3/10\n",
            "48/48 [==============================] - 12s 243ms/step - loss: 0.2152 - accuracy: 0.9361 - val_loss: 0.1981 - val_accuracy: 0.9415\n",
            "Epoch 4/10\n",
            "48/48 [==============================] - 12s 252ms/step - loss: 0.1766 - accuracy: 0.9483 - val_loss: 0.1721 - val_accuracy: 0.9468\n",
            "Epoch 5/10\n",
            "48/48 [==============================] - 12s 260ms/step - loss: 0.1492 - accuracy: 0.9566 - val_loss: 0.1537 - val_accuracy: 0.9529\n",
            "Epoch 6/10\n",
            "48/48 [==============================] - 12s 242ms/step - loss: 0.1287 - accuracy: 0.9622 - val_loss: 0.1397 - val_accuracy: 0.9570\n",
            "Epoch 7/10\n",
            "48/48 [==============================] - 11s 235ms/step - loss: 0.1124 - accuracy: 0.9670 - val_loss: 0.1295 - val_accuracy: 0.9604\n",
            "Epoch 8/10\n",
            "48/48 [==============================] - 12s 244ms/step - loss: 0.0985 - accuracy: 0.9717 - val_loss: 0.1211 - val_accuracy: 0.9635\n",
            "Epoch 9/10\n",
            "48/48 [==============================] - 12s 244ms/step - loss: 0.0868 - accuracy: 0.9751 - val_loss: 0.1142 - val_accuracy: 0.9656\n",
            "Epoch 10/10\n",
            "48/48 [==============================] - 12s 240ms/step - loss: 0.0767 - accuracy: 0.9779 - val_loss: 0.1088 - val_accuracy: 0.9677\n"
          ],
          "name": "stdout"
        },
        {
          "output_type": "execute_result",
          "data": {
            "text/plain": [
              "<tensorflow.python.keras.callbacks.History at 0x7f4ed27b6978>"
            ]
          },
          "metadata": {
            "tags": []
          },
          "execution_count": 64
        }
      ]
    },
    {
      "cell_type": "markdown",
      "metadata": {
        "id": "LeGsinSghqPY",
        "colab_type": "text"
      },
      "source": [
        "**Evaluating our model with test data**"
      ]
    },
    {
      "cell_type": "code",
      "metadata": {
        "id": "DIjw1Uhgix23",
        "colab_type": "code",
        "colab": {
          "base_uri": "https://localhost:8080/",
          "height": 52
        },
        "outputId": "d2a15e65-eb2c-40a9-8a95-2e142d0fdcf7"
      },
      "source": [
        "testloss,testaccuracy=model.evaluate(testdata)\n",
        "print('TestLoss: {0:.4f}. Test Accuracy: {1:.3f}'.format(testloss,testaccuracy*100))"
      ],
      "execution_count": 78,
      "outputs": [
        {
          "output_type": "stream",
          "text": [
            "1/1 [==============================] - 0s 2ms/step - loss: 0.1045 - accuracy: 0.9680\n",
            "TestLoss: 0.1045. Test Accuracy: 96.800\n"
          ],
          "name": "stdout"
        }
      ]
    },
    {
      "cell_type": "code",
      "metadata": {
        "id": "wGhMIXOMhuuv",
        "colab_type": "code",
        "colab": {}
      },
      "source": [
        ""
      ],
      "execution_count": 0,
      "outputs": []
    },
    {
      "cell_type": "code",
      "metadata": {
        "id": "a0DdtkoXix5y",
        "colab_type": "code",
        "colab": {}
      },
      "source": [
        ""
      ],
      "execution_count": 0,
      "outputs": []
    },
    {
      "cell_type": "code",
      "metadata": {
        "id": "5lNF2ssNix8B",
        "colab_type": "code",
        "colab": {}
      },
      "source": [
        ""
      ],
      "execution_count": 0,
      "outputs": []
    },
    {
      "cell_type": "code",
      "metadata": {
        "id": "KyRMImW-ix-4",
        "colab_type": "code",
        "colab": {}
      },
      "source": [
        ""
      ],
      "execution_count": 0,
      "outputs": []
    },
    {
      "cell_type": "code",
      "metadata": {
        "id": "ZvqPCpBWBtLl",
        "colab_type": "code",
        "colab": {}
      },
      "source": [
        ""
      ],
      "execution_count": 0,
      "outputs": []
    },
    {
      "cell_type": "code",
      "metadata": {
        "id": "CMXBKXyHBtOa",
        "colab_type": "code",
        "colab": {}
      },
      "source": [
        ""
      ],
      "execution_count": 0,
      "outputs": []
    },
    {
      "cell_type": "code",
      "metadata": {
        "id": "gdLsSfDABtRY",
        "colab_type": "code",
        "colab": {}
      },
      "source": [
        ""
      ],
      "execution_count": 0,
      "outputs": []
    },
    {
      "cell_type": "code",
      "metadata": {
        "id": "0W0DDziYBtUI",
        "colab_type": "code",
        "colab": {}
      },
      "source": [
        ""
      ],
      "execution_count": 0,
      "outputs": []
    },
    {
      "cell_type": "code",
      "metadata": {
        "id": "A3OO4W0FBtXP",
        "colab_type": "code",
        "colab": {}
      },
      "source": [
        ""
      ],
      "execution_count": 0,
      "outputs": []
    },
    {
      "cell_type": "code",
      "metadata": {
        "id": "cbpyj9WgBtZ7",
        "colab_type": "code",
        "colab": {}
      },
      "source": [
        ""
      ],
      "execution_count": 0,
      "outputs": []
    },
    {
      "cell_type": "code",
      "metadata": {
        "id": "VO2XwuWUBtcy",
        "colab_type": "code",
        "colab": {}
      },
      "source": [
        ""
      ],
      "execution_count": 0,
      "outputs": []
    },
    {
      "cell_type": "code",
      "metadata": {
        "id": "ARxXo9C8Btfs",
        "colab_type": "code",
        "colab": {}
      },
      "source": [
        ""
      ],
      "execution_count": 0,
      "outputs": []
    }
  ]
}